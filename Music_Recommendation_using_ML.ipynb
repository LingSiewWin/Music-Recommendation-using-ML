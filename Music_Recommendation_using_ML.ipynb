{
 "cells": [
  {
   "cell_type": "code",
   "execution_count": null,
   "metadata": {},
   "outputs": [],
   "source": [
    "import numpy as np\n",
    "import pandas as pd\n",
    "import matplotlib.pyplot as plt\n",
    "import seaborn as sb\n",
    " \n",
    "from sklearn.metrics.pairwise import cosine_similarity\n",
    "from sklearn.feature_extraction.text import CountVectorizer\n",
    "from sklearn.manifold import TSNE\n",
    " \n",
    "import warnings\n",
    "warnings.filterwarnings('ignore')"
   ]
  },
  {
   "cell_type": "code",
   "execution_count": null,
   "metadata": {},
   "outputs": [],
   "source": [
    "tracks = pd.read_csv('tracks_records.csv')\n",
    "tracks.head()"
   ]
  },
  {
   "cell_type": "code",
   "execution_count": null,
   "metadata": {},
   "outputs": [],
   "source": [
    "tracks.shape"
   ]
  },
  {
   "cell_type": "code",
   "execution_count": null,
   "metadata": {},
   "outputs": [],
   "source": [
    "tracks.info()"
   ]
  },
  {
   "cell_type": "code",
   "execution_count": null,
   "metadata": {},
   "outputs": [],
   "source": [
    "tracks.isnull().sum()\n"
   ]
  },
  {
   "cell_type": "code",
   "execution_count": null,
   "metadata": {},
   "outputs": [],
   "source": [
    "tracks.dropna(inplace = True)\n",
    "tracks.isnull().sum().plot.bar()\n",
    "plt.show()"
   ]
  },
  {
   "cell_type": "code",
   "execution_count": null,
   "metadata": {},
   "outputs": [],
   "source": [
    "tracks = tracks.drop(['id', 'id_artists'], axis = 1)\n"
   ]
  },
  {
   "cell_type": "code",
   "execution_count": null,
   "metadata": {},
   "outputs": [],
   "source": [
    "model = TSNE(n_components = 2, random_state = 0)\n",
    "tsne_data = model.fit_transform(a.head(500))\n",
    "plt.figure(figsize = (7, 7))\n",
    "plt.scatter(tsne_data[:,0], tsne_data[:,1])\n",
    "plt.show()"
   ]
  },
  {
   "cell_type": "code",
   "execution_count": null,
   "metadata": {},
   "outputs": [],
   "source": [
    "tracks['name'].nunique(), tracks.shape\n"
   ]
  },
  {
   "cell_type": "code",
   "execution_count": null,
   "metadata": {},
   "outputs": [],
   "source": [
    "tracks = tracks.sort_values(by=['popularity'], ascending=False)\n",
    "tracks.drop_duplicates(subset=['name'], keep='first', inplace=True)"
   ]
  },
  {
   "cell_type": "code",
   "execution_count": null,
   "metadata": {},
   "outputs": [],
   "source": [
    "plt.figure(figsize = (10, 5))\n",
    "sb.countplot(tracks['release_year'])\n",
    "plt.axis('off')\n",
    "plt.show()"
   ]
  },
  {
   "cell_type": "code",
   "execution_count": null,
   "metadata": {},
   "outputs": [],
   "source": [
    "floats = []\n",
    "for col in tracks.columns:\n",
    "  if tracks[col].dtype == 'float':\n",
    "    floats.append(col)\n",
    " \n",
    "len(floats)"
   ]
  },
  {
   "cell_type": "code",
   "execution_count": null,
   "metadata": {},
   "outputs": [],
   "source": [
    "plt.subplots(figsize = (15, 5))\n",
    "for i, col in enumerate(floats):\n",
    "  plt.subplot(2, 5, i + 1)\n",
    "  sb.distplot(tracks[col])\n",
    "plt.tight_layout()\n",
    "plt.show()"
   ]
  },
  {
   "cell_type": "code",
   "execution_count": null,
   "metadata": {},
   "outputs": [],
   "source": [
    "%%capture\n",
    "song_vectorizer = CountVectorizer()\n",
    "song_vectorizer.fit(tracks['genres'])"
   ]
  },
  {
   "cell_type": "code",
   "execution_count": null,
   "metadata": {},
   "outputs": [],
   "source": [
    "tracks = tracks.sort_values(by=['popularity'], ascending=False).head(10000)\n"
   ]
  },
  {
   "cell_type": "code",
   "execution_count": null,
   "metadata": {},
   "outputs": [],
   "source": [
    "def get_similarities(song_name, data):\n",
    "   \n",
    "  # Getting vector for the input song.\n",
    "  text_array1 = song_vectorizer.transform(data[data['name']==song_name]['genres']).toarray()\n",
    "  num_array1 = data[data['name']==song_name].select_dtypes(include=np.number).to_numpy()\n",
    "   \n",
    "  # We will store similarity for each row of the dataset.\n",
    "  sim = []\n",
    "  for idx, row in data.iterrows():\n",
    "    name = row['name']\n",
    "     \n",
    "    # Getting vector for current song.\n",
    "    text_array2 = song_vectorizer.transform(data[data['name']==name]['genres']).toarray()\n",
    "    num_array2 = data[data['name']==name].select_dtypes(include=np.number).to_numpy()\n",
    " \n",
    "    # Calculating similarities for text as well as numeric features\n",
    "    text_sim = cosine_similarity(text_array1, text_array2)[0][0]\n",
    "    num_sim = cosine_similarity(num_array1, num_array2)[0][0]\n",
    "    sim.append(text_sim + num_sim)\n",
    "     \n",
    "  return sim"
   ]
  },
  {
   "cell_type": "code",
   "execution_count": null,
   "metadata": {},
   "outputs": [],
   "source": [
    "def recommend_songs(song_name, data=tracks):\n",
    "  # Base case\n",
    "  if tracks[tracks['name'] == song_name].shape[0] == 0:\n",
    "    print('This song is either not so popular or you\\\n",
    "    have entered invalid_name.\\n Some songs you may like:\\n')\n",
    "     \n",
    "    for song in data.sample(n=5)['name'].values:\n",
    "      print(song)\n",
    "    return\n",
    "   \n",
    "  data['similarity_factor'] = get_similarities(song_name, data)\n",
    " \n",
    "  data.sort_values(by=['similarity_factor', 'popularity'],\n",
    "                   ascending = [False, False],\n",
    "                   inplace=True)\n",
    "   \n",
    "  # First song will be the input song itself as the similarity will be highest.\n",
    "  display(data[['name', 'artists']][2:7])"
   ]
  },
  {
   "cell_type": "code",
   "execution_count": null,
   "metadata": {},
   "outputs": [],
   "source": [
    "recommend_songs('Shape of You')\n"
   ]
  },
  {
   "cell_type": "code",
   "execution_count": null,
   "metadata": {},
   "outputs": [],
   "source": [
    "recommend_songs('Love Someone')\n"
   ]
  },
  {
   "cell_type": "code",
   "execution_count": null,
   "metadata": {},
   "outputs": [],
   "source": [
    "recommend_songs('Love me like you do')\n"
   ]
  }
 ],
 "metadata": {
  "kernelspec": {
   "display_name": "3.9.20",
   "language": "python",
   "name": "python3"
  },
  "language_info": {
   "name": "python",
   "version": "3.9.20"
  }
 },
 "nbformat": 4,
 "nbformat_minor": 2
}
